{
 "cells": [
  {
   "cell_type": "code",
   "execution_count": 5,
   "metadata": {},
   "outputs": [
    {
     "name": "stdout",
     "output_type": "stream",
     "text": [
      "1.0 1.0\n"
     ]
    }
   ],
   "source": [
    "import numpy as np\n",
    "import matplotlib.pyplot as plt\n",
    "from scipy.optimize import fsolve\n",
    "\n",
    "%matplotlib widget\n",
    "coulomb = 1.60217662E-19\n",
    "#plt.rcParams['figure.figsize'] = [12, 8]\n",
    "\n",
    "k_isc      = 1E6         # 1/s\n",
    "tau_s      = 98E-9       # s\n",
    "k_risc     = 2.2*1E5     # 1/s\n",
    "tau_t      = 100E-6      # s\n",
    "k_tta      = 7*1E-12     # From literature (cm^3/s)\n",
    "kappa_tta  = 8*1E-9\n",
    "d          = 100E-8      # thickness of the exciton formation zone cm\n",
    "q          = 1*coulomb   # electron charge in coulomb\n",
    "J          = np.linspace(1E-2,100,200) # Current density mA/cm^2\n",
    "\n",
    "\n",
    "###### Our model ###########\n",
    "def tta_forster(E): \n",
    "    # a1*T^3 + 0*T^2 + a2*T + G*a3 + a4*S  = 0 \n",
    "    a1 = -0.5*kappa_tta\n",
    "    a2 = -(1/tau_t + k_risc)\n",
    "    a3 = 0.75\n",
    "    a4 = k_isc\n",
    "    ###########\n",
    "    # a5*S + a6*G + a7*T\n",
    "    a5 = -k_isc\n",
    "    a6 = 0.25\n",
    "    a7 = k_risc\n",
    "    return a5*E[0] + a6*G + a7*E[1], a1*E[1]**3 + a2*E[1] + G*a3 + a4*E[0]\n",
    "\n",
    "G = G[0]\n",
    "x, y =  fsolve(tta_forster, [1,1] )\n",
    "\n",
    "print(x,y)"
   ]
  }
 ],
 "metadata": {
  "interpreter": {
   "hash": "1baa965d5efe3ac65b79dfc60c0d706280b1da80fedb7760faf2759126c4f253"
  },
  "kernelspec": {
   "display_name": "Python 3.8.6 64-bit",
   "language": "python",
   "name": "python3"
  },
  "language_info": {
   "codemirror_mode": {
    "name": "ipython",
    "version": 3
   },
   "file_extension": ".py",
   "mimetype": "text/x-python",
   "name": "python",
   "nbconvert_exporter": "python",
   "pygments_lexer": "ipython3",
   "version": "3.8.6"
  },
  "orig_nbformat": 4
 },
 "nbformat": 4,
 "nbformat_minor": 2
}
