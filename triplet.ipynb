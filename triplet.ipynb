{
 "cells": [
  {
   "cell_type": "markdown",
   "id": "e6630902",
   "metadata": {},
   "source": [
    "## Triplet's rate equation solving"
   ]
  },
  {
   "cell_type": "code",
   "execution_count": 73,
   "id": "96942422",
   "metadata": {},
   "outputs": [],
   "source": [
    "import numpy as np\n",
    "import matplotlib.pyplot as plt\n",
    "#plt.rcParams['figure.dpi'] = 200\n",
    "coulomb = 1.60217662\n",
    "plt.rcParams['figure.figsize'] = [12, 8]\n",
    "\n",
    "k_isc = 1E-3        # 1/ns\n",
    "tau_s = 98          # ns\n",
    "k_risc = 2.2*1E-4   # 1/ns\n",
    "tau_t = 100E+3      # ns\n",
    "k_tta = 8*1E-9      # From literature (m^3/ns)\n",
    "d     = 1E-8        # thickness of the exciton formation zone cm\n",
    "q     = 1           # charge in elementary charge units\n",
    "q     = q*coulomb\n",
    "J_to_G = 1E+13/(d*q)\n",
    "J = np.linspace(1E-20,100,200) # Current density mA/cm^2\n",
    "G = J*J_to_G # Generation density rate m^3/ns\n",
    "\n",
    "###### Our model ###########\n",
    "def triplet_Forster(g,param): \n",
    "    # aT^3 + 0*T^2 + b*T + G*c = 0\n",
    "    a = (-1)*param\n",
    "    b = (-1)*(1/tau_t) + (-1)*(k_risc) + (k_isc*k_risc)/((1/tau_s) + k_isc)\n",
    "    c = 0.75 + 0.25*k_isc/((1/tau_s) + k_isc)    \n",
    "    \n",
    "    return np.roots([a,0,b,g*c])\n",
    "def Singlet_Forster(T,g,param):\n",
    "    return (0.25*g*tau_s + k_risc*tau_s*T)/(1+k_isc*tau_s)\n",
    "############################\n",
    "##### Traditional Model ####\n",
    "def triplet_Dexter(g,param): \n",
    "    # aT^2 b*T + G*c = 0\n",
    "    a = 0.25*tau_s*param*k_isc/(1+k_isc*tau_s) + (-1)*1.25*param\n",
    "    b = (-1)*(1/tau_t) + (-1)*k_risc + (k_risc*k_isc*tau_s)/(1+k_isc*tau_s)\n",
    "    c = 0.75 + (0.25*k_isc*tau_s)/(1+k_isc*tau_s)  \n",
    "    return np.roots([a,b,g*c])\n",
    "\n",
    "def Singlet_Dexter(T,g,param):\n",
    "    return (0.25*tau_s*g + k_risc*tau_s*T + 0.25*param*tau_s*T*T)/(1+k_isc*tau_s)\n",
    "############################\n",
    "\n",
    "def dump_graphs(x,y,filename):\n",
    "    n = len(x)\n",
    "    with open(filename,'w') as f:\n",
    "        for i in range(n):\n",
    "            f.write('{} {}\\n'.format(x[i],y[i]))\n",
    "            \n",
    "singlet_funcs = {'Dexter': Singlet_Dexter,'Forster':Singlet_Forster}\n",
    "triplet_funcs = {'Dexter': triplet_Dexter,'Forster':triplet_Forster}\n",
    "\n",
    "def get_parameter_behavior(G,param_array,type_param_triplet,type_param_singlet,ax):\n",
    "    indx = 0\n",
    "    for param in param_array:\n",
    "        indx = indx+1\n",
    "        EQE        = [] # efficiency for a given G (or J)\n",
    "        j_allowed  = [] # J values in which the polynomial's roots are real\n",
    "\n",
    "        for g in G:\n",
    "            poly_sols      = triplet_funcs[type_param_triplet](g,param)\n",
    "            real_poly_sols = [x.real for x in poly_sols if x.imag == 0 and x.real >=0]\n",
    "\n",
    "            if real_poly_sols:\n",
    "                if len(real_poly_sols) > 1:\n",
    "                    print('duplicated sols')\n",
    "                    \n",
    "                singlet_density   = singlet_funcs[type_param_singlet](real_poly_sols[0],g,param)\n",
    "\n",
    "                EQE.append(100*singlet_density/(g*tau_s))\n",
    "                j_allowed.append(g/J_to_G)\n",
    "\n",
    "        if indx == 1:\n",
    "            ax.plot(j_allowed,EQE,'--r',label=type_param_triplet+'/'+type_param_singlet)\n",
    "        else:\n",
    "            ax.plot(j_allowed,EQE,'--r')\n",
    "    ax.set_ylim([0, 100])\n",
    "    ax.set_xlabel('Current Density (mA cm$^{-3}$)')\n",
    "    ax.set_ylabel('IQE (%)')\n",
    "    ax.legend()\n",
    "        #DUMP data\n",
    "        #file_name = type_param+'_'+str(indx)+'.txt'\n",
    "        #dump_graphs(g_allowed,EQE,file_name)\n",
    "        \n"
   ]
  },
  {
   "cell_type": "code",
   "execution_count": 74,
   "id": "40dba50f",
   "metadata": {
    "scrolled": false
   },
   "outputs": [
    {
     "data": {
      "image/png": "[encoded data removed]",
      "text/plain": [
       "<Figure size 864x576 with 2 Axes>"
      ]
     },
     "metadata": {
      "needs_background": "light"
     },
     "output_type": "display_data"
    }
   ],
   "source": [
    "Forster_param_arr= np.linspace(1E-15,1E-14,10) # Our parameter m^6/ns\n",
    "Dexter_param_arr = np.linspace(1E-8,1E-7,10) # literature's parameter (m^3/ns)\n",
    "\n",
    "fig, ax = plt.subplots(1,2)\n",
    "\n",
    "get_parameter_behavior(G,Forster_param_arr,'Forster','Forster',ax[0])\n",
    "get_parameter_behavior(G,Dexter_param_arr ,'Dexter' ,'Dexter' ,ax[1])\n",
    "\n",
    "plt.tight_layout()\n",
    "#plt.legend()\n",
    "plt.show()\n",
    "\n"
   ]
  },
  {
   "cell_type": "code",
   "execution_count": null,
   "id": "13b39831",
   "metadata": {},
   "outputs": [],
   "source": []
  }
 ],
 "metadata": {
  "kernelspec": {
   "display_name": "Python 3 (ipykernel)",
   "language": "python",
   "name": "python3"
  },
  "language_info": {
   "codemirror_mode": {
    "name": "ipython",
    "version": 3
   },
   "file_extension": ".py",
   "mimetype": "text/x-python",
   "name": "python",
   "nbconvert_exporter": "python",
   "pygments_lexer": "ipython3",
   "version": "3.8.10"
  }
 },
 "nbformat": 4,
 "nbformat_minor": 5
}
